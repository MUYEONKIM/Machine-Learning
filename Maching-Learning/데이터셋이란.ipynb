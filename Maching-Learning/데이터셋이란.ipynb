{
 "cells": [
  {
   "cell_type": "markdown",
   "id": "037f783f",
   "metadata": {},
   "source": [
    "## 데이터 셋 다루기\n",
    "\n",
    "* 데이터 셋은 특성(feature)과 결과값(target, label)로 구성되어 있음\n",
    "* 단순하게 특성은 독립변수, 결과값은 종속변수에 해당\n",
    "* 허나 특성은 하나일 필요는 없으며, 특성의 개수를 데이터 셋의 차원이라 함\n",
    "* 실제 데이터 셋은 특성의 수가 매우 많은 높은 차원의 데이터 셋일 가능성이 높으며 사이킷런 패키지 내에서 일부 제공"
   ]
  },
  {
   "cell_type": "markdown",
   "id": "0711006d",
   "metadata": {},
   "source": [
    "### 데이터의 속성 살펴보기"
   ]
  },
  {
   "cell_type": "code",
   "execution_count": null,
   "id": "21476b88",
   "metadata": {},
   "outputs": [],
   "source": [
    "from sklearn.datasets import load_boston\n",
    "import pandas as pd\n",
    "\n",
    "boston = load_boston()\n",
    "\n",
    "print(boston.DESCR)"
   ]
  },
  {
   "cell_type": "code",
   "execution_count": 20,
   "id": "06d484e7",
   "metadata": {},
   "outputs": [
    {
     "name": "stdout",
     "output_type": "stream",
     "text": [
      "dict_keys(['data', 'target', 'feature_names', 'DESCR', 'filename', 'data_module'])\n",
      "(506, 13)\n",
      "(506,)\n"
     ]
    }
   ],
   "source": [
    "#데이터 셋의 구조\n",
    "#기본적으로 딕셔너리 형태로 되어 있음\n",
    "print(boston.keys())\n",
    "#keys : data 에 속해 있는 데이터들\n",
    "# print(boston.data)\n",
    "print(boston.data.shape) #즉 506개의 데이터 포인트, 506개의 데이터 행, 13개의 feature (x,y) (506, 13) \n",
    "print(boston.target.shape) # 즉 타겟(정답)이니깐 506개의 행"
   ]
  },
  {
   "cell_type": "markdown",
   "id": "5ad86390",
   "metadata": {},
   "source": [
    "* target이란 정답데이터 (실제 데이터)"
   ]
  }
 ],
 "metadata": {
  "kernelspec": {
   "display_name": "Python 3 (ipykernel)",
   "language": "python",
   "name": "python3"
  },
  "language_info": {
   "codemirror_mode": {
    "name": "ipython",
    "version": 3
   },
   "file_extension": ".py",
   "mimetype": "text/x-python",
   "name": "python",
   "nbconvert_exporter": "python",
   "pygments_lexer": "ipython3",
   "version": "3.9.13"
  },
  "toc": {
   "base_numbering": 1,
   "nav_menu": {},
   "number_sections": true,
   "sideBar": true,
   "skip_h1_title": false,
   "title_cell": "Table of Contents",
   "title_sidebar": "Contents",
   "toc_cell": false,
   "toc_position": {},
   "toc_section_display": true,
   "toc_window_display": false
  }
 },
 "nbformat": 4,
 "nbformat_minor": 5
}

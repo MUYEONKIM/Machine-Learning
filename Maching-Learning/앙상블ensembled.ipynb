{
 "cells": [
  {
   "cell_type": "markdown",
   "id": "46f3d97c",
   "metadata": {},
   "source": [
    "# 앙상블(Ensemble)\n",
    "\n",
    "* 일반화와 강건성(Robustness)을 향상시키기 위해 여러 모델의 예측 값을 결합하는 방법\n",
    "* 강건성 : 구조적으로 튼튼하고 건강해지는 특성\n",
    "* 앙상블에는 크게 두가지 종류가 존재\n",
    "  * 평균 방법\n",
    "    * 여러개의 추정값을 독립적으로 구한뒤 평균을 취함\n",
    "    * 결합 추정값은 분산이 줄어들기 때문에 단일 추정값보다 좋은 성능을 보임\n",
    "  * 부스팅 방법\n",
    "    * 순차적으로 모델 생성\n",
    "    * 결합된 모델의 편향을 감소 시키기 위해 노력\n",
    "    * 부스팅 방법의 목표는 여러개의 약한 모델들을 결합해 하나의 강력한 앙상블 모델을 구축하는 것"
   ]
  },
  {
   "cell_type": "markdown",
   "id": "228cf6c0",
   "metadata": {},
   "source": [
    "## Bagging meta-estimator\n",
    "\n",
    "* bagging은 bootstrap aggregating의 줄임말\n",
    "* 원래 훈련 데이터셋의 일부를 사용해 여러 모델을 훈련\n",
    "* 각각의 결과를 결합해 최종 결과를 생성\n",
    "* 분산을 줄이고 과적합을 막음\n",
    "* 강력하고 복잡한 모델에서 잘 동작 / 굉장히 우수한 성능"
   ]
  },
  {
   "cell_type": "code",
   "execution_count": 1,
   "id": "58082f88",
   "metadata": {},
   "outputs": [],
   "source": [
    "from sklearn.datasets import load_iris, load_breast_cancer, load_wine, load_boston, load_diabetes\n",
    "from sklearn.preprocessing import StandardScaler\n",
    "from sklearn.pipeline import make_pipeline\n",
    "from sklearn.model_selection import cross_validate"
   ]
  },
  {
   "cell_type": "code",
   "execution_count": 2,
   "id": "47492919",
   "metadata": {},
   "outputs": [],
   "source": [
    "from sklearn.ensemble import BaggingClassifier\n",
    "from sklearn.neighbors import KNeighborsClassifier\n",
    "from sklearn.svm import SVC\n",
    "from sklearn.tree import DecisionTreeClassifier"
   ]
  },
  {
   "cell_type": "code",
   "execution_count": 3,
   "id": "7f7c8406",
   "metadata": {},
   "outputs": [],
   "source": [
    "from sklearn.ensemble import BaggingRegressor\n",
    "from sklearn.neighbors import KNeighborsRegressor\n",
    "from sklearn.svm import SVR\n",
    "from sklearn.tree import DecisionTreeRegressor\n",
    "import warnings\n",
    "\n",
    "warnings.filterwarnings(action='ignore')\n",
    "%config InlineBackend.figure_format = 'retina'"
   ]
  },
  {
   "cell_type": "markdown",
   "id": "cf6c8f85",
   "metadata": {},
   "source": [
    "### Bagging을 사용한 분류"
   ]
  },
  {
   "cell_type": "markdown",
   "id": "243b451e",
   "metadata": {},
   "source": [
    "#### 데이터셋 불러오기"
   ]
  },
  {
   "cell_type": "code",
   "execution_count": 19,
   "id": "a5871819",
   "metadata": {},
   "outputs": [],
   "source": [
    "iris = load_iris()\n",
    "wine = load_wine()\n",
    "cancer = load_breast_cancer()"
   ]
  },
  {
   "cell_type": "markdown",
   "id": "0a7828bd",
   "metadata": {},
   "source": [
    "#### KNN"
   ]
  },
  {
   "cell_type": "markdown",
   "id": "c42472df",
   "metadata": {},
   "source": [
    "##### 붓꽃 데이터"
   ]
  },
  {
   "cell_type": "code",
   "execution_count": 20,
   "id": "f186f15a",
   "metadata": {},
   "outputs": [],
   "source": [
    "base_model = make_pipeline(\n",
    "    StandardScaler(),\n",
    "    KNeighborsClassifier(),\n",
    ")\n",
    "\n",
    "bagging_model = BaggingClassifier(base_model,\n",
    "                                  n_estimators=10,\n",
    "                                  max_samples=0.5,\n",
    "                                  max_features=0.5)"
   ]
  },
  {
   "cell_type": "code",
   "execution_count": 26,
   "id": "31481779",
   "metadata": {
    "scrolled": true
   },
   "outputs": [
    {
     "name": "stdout",
     "output_type": "stream",
     "text": [
      "avg fit time : 0.0018561363220214843 (+/- 0.0006530496208083471)\n",
      "avg score time : 0.003165006637573242 (+/- 0.000503913174898885)\n",
      "avg test score : 0.96 (+/- 0.024944382578492935)\n"
     ]
    }
   ],
   "source": [
    "cross_val = cross_validate(\n",
    "    estimator=base_model,\n",
    "    X=iris.data, y=iris.target,\n",
    "    cv=5\n",
    ")\n",
    "print(f\"avg fit time : {cross_val['fit_time'].mean()} (+/- {cross_val['fit_time'].std()})\")\n",
    "print(f\"avg score time : {cross_val['score_time'].mean()} (+/- {cross_val['score_time'].std()})\")\n",
    "print(f\"avg test score : {cross_val['test_score'].mean()} (+/- {cross_val['test_score'].std()})\")"
   ]
  },
  {
   "cell_type": "code",
   "execution_count": 27,
   "id": "59dafc12",
   "metadata": {},
   "outputs": [
    {
     "name": "stdout",
     "output_type": "stream",
     "text": [
      "avg fit time : 0.039535903930664064 (+/- 0.0020783010179425913)\n",
      "avg score time : 0.015109395980834961 (+/- 0.0005574940284130443)\n",
      "avg test score : 0.9466666666666665 (+/- 0.03399346342395189)\n"
     ]
    }
   ],
   "source": [
    "cross_val = cross_validate(\n",
    "    estimator=bagging_model,\n",
    "    X=iris.data, y=iris.target,\n",
    "    cv=5\n",
    ")\n",
    "print(f\"avg fit time : {cross_val['fit_time'].mean()} (+/- {cross_val['fit_time'].std()})\")\n",
    "print(f\"avg score time : {cross_val['score_time'].mean()} (+/- {cross_val['score_time'].std()})\")\n",
    "print(f\"avg test score : {cross_val['test_score'].mean()} (+/- {cross_val['test_score'].std()})\")"
   ]
  },
  {
   "cell_type": "markdown",
   "id": "68d527f7",
   "metadata": {},
   "source": [
    "##### 와인 데이터"
   ]
  },
  {
   "cell_type": "code",
   "execution_count": 28,
   "id": "7f70b65e",
   "metadata": {},
   "outputs": [],
   "source": [
    "base_model = make_pipeline(\n",
    "    StandardScaler(),\n",
    "    KNeighborsClassifier(),\n",
    ")\n",
    "\n",
    "bagging_model = BaggingClassifier(base_model,\n",
    "                                  n_estimators=10,\n",
    "                                  max_samples=0.5,\n",
    "                                  max_features=0.5)"
   ]
  },
  {
   "cell_type": "code",
   "execution_count": 29,
   "id": "036bf8d0",
   "metadata": {},
   "outputs": [
    {
     "name": "stdout",
     "output_type": "stream",
     "text": [
      "avg fit time : 0.0021858692169189455 (+/- 0.0010238991780787668)\n",
      "avg score time : 0.003700590133666992 (+/- 0.0010248302480866008)\n",
      "avg test score : 0.9493650793650794 (+/- 0.037910929811115976)\n"
     ]
    }
   ],
   "source": [
    "cross_val = cross_validate(\n",
    "    estimator=base_model,\n",
    "    X=wine.data, y=wine.target,\n",
    "    cv=5\n",
    ")\n",
    "print(f\"avg fit time : {cross_val['fit_time'].mean()} (+/- {cross_val['fit_time'].std()})\")\n",
    "print(f\"avg score time : {cross_val['score_time'].mean()} (+/- {cross_val['score_time'].std()})\")\n",
    "print(f\"avg test score : {cross_val['test_score'].mean()} (+/- {cross_val['test_score'].std()})\")"
   ]
  },
  {
   "cell_type": "code",
   "execution_count": 31,
   "id": "6393735f",
   "metadata": {},
   "outputs": [
    {
     "name": "stdout",
     "output_type": "stream",
     "text": [
      "avg fit time : 0.039252424240112306 (+/- 0.004531296617613461)\n",
      "avg score time : 0.01540517807006836 (+/- 0.0005427767644992488)\n",
      "avg test score : 0.9441269841269841 (+/- 0.03488670790589105)\n"
     ]
    }
   ],
   "source": [
    "cross_val = cross_validate(\n",
    "    estimator=bagging_model,\n",
    "    X=wine.data, y=wine.target,\n",
    "    cv=5\n",
    ")\n",
    "print(f\"avg fit time : {cross_val['fit_time'].mean()} (+/- {cross_val['fit_time'].std()})\")\n",
    "print(f\"avg score time : {cross_val['score_time'].mean()} (+/- {cross_val['score_time'].std()})\")\n",
    "print(f\"avg test score : {cross_val['test_score'].mean()} (+/- {cross_val['test_score'].std()})\")"
   ]
  },
  {
   "cell_type": "markdown",
   "id": "965429e0",
   "metadata": {},
   "source": [
    "##### 유방암 데이터"
   ]
  },
  {
   "cell_type": "code",
   "execution_count": 32,
   "id": "ef75f022",
   "metadata": {},
   "outputs": [],
   "source": [
    "base_model = make_pipeline(\n",
    "    StandardScaler(),\n",
    "    KNeighborsClassifier(),\n",
    ")\n",
    "\n",
    "bagging_model = BaggingClassifier(base_model,\n",
    "                                  n_estimators=10,\n",
    "                                  max_samples=0.5,\n",
    "                                  max_features=0.5)"
   ]
  },
  {
   "cell_type": "code",
   "execution_count": 33,
   "id": "7b909d6f",
   "metadata": {},
   "outputs": [
    {
     "name": "stdout",
     "output_type": "stream",
     "text": [
      "avg fit time : 0.0019655227661132812 (+/- 0.0003611615127480492)\n",
      "avg score time : 0.011516094207763672 (+/- 0.005328152308529014)\n",
      "avg test score : 0.9648501785437045 (+/- 0.009609970350036127)\n"
     ]
    }
   ],
   "source": [
    "cross_val = cross_validate(\n",
    "    estimator=base_model,\n",
    "    X=cancer.data, y=cancer.target,\n",
    "    cv=5\n",
    ")\n",
    "print(f\"avg fit time : {cross_val['fit_time'].mean()} (+/- {cross_val['fit_time'].std()})\")\n",
    "print(f\"avg score time : {cross_val['score_time'].mean()} (+/- {cross_val['score_time'].std()})\")\n",
    "print(f\"avg test score : {cross_val['test_score'].mean()} (+/- {cross_val['test_score'].std()})\")"
   ]
  },
  {
   "cell_type": "code",
   "execution_count": 34,
   "id": "20635632",
   "metadata": {},
   "outputs": [
    {
     "name": "stdout",
     "output_type": "stream",
     "text": [
      "avg fit time : 0.04462962150573731 (+/- 0.004210724308435661)\n",
      "avg score time : 0.031119537353515626 (+/- 0.001442241375466627)\n",
      "avg test score : 0.9596025461884802 (+/- 0.013079066864621501)\n"
     ]
    }
   ],
   "source": [
    "cross_val = cross_validate(\n",
    "    estimator=bagging_model,\n",
    "    X=cancer.data, y=cancer.target,\n",
    "    cv=5\n",
    ")\n",
    "print(f\"avg fit time : {cross_val['fit_time'].mean()} (+/- {cross_val['fit_time'].std()})\")\n",
    "print(f\"avg score time : {cross_val['score_time'].mean()} (+/- {cross_val['score_time'].std()})\")\n",
    "print(f\"avg test score : {cross_val['test_score'].mean()} (+/- {cross_val['test_score'].std()})\")"
   ]
  },
  {
   "cell_type": "markdown",
   "id": "9b00f4d7",
   "metadata": {},
   "source": [
    "#### SVC"
   ]
  },
  {
   "cell_type": "code",
   "execution_count": 40,
   "id": "2d5fd2ae",
   "metadata": {},
   "outputs": [],
   "source": [
    "base_model = make_pipeline(\n",
    "    StandardScaler(),\n",
    "    SVC(),\n",
    ")\n",
    "\n",
    "bagging_model = BaggingClassifier(base_model,\n",
    "                                  n_estimators=10,\n",
    "                                  max_samples=0.5,\n",
    "                                  max_features=0.5)"
   ]
  },
  {
   "cell_type": "markdown",
   "id": "98be77d7",
   "metadata": {},
   "source": [
    "##### 붓꽃 데이터"
   ]
  },
  {
   "cell_type": "code",
   "execution_count": 41,
   "id": "31f3c09d",
   "metadata": {},
   "outputs": [
    {
     "name": "stdout",
     "output_type": "stream",
     "text": [
      "avg fit time : 0.0028365135192871095 (+/- 0.000579892241067346)\n",
      "avg score time : 0.0011091232299804688 (+/- 0.00022167410215276652)\n",
      "avg test score : 0.9666666666666666 (+/- 0.02108185106778919)\n"
     ]
    }
   ],
   "source": [
    "cross_val = cross_validate(\n",
    "    estimator=base_model,\n",
    "    X=iris.data, y=iris.target,\n",
    "    cv=5\n",
    ")\n",
    "print(f\"avg fit time : {cross_val['fit_time'].mean()} (+/- {cross_val['fit_time'].std()})\")\n",
    "print(f\"avg score time : {cross_val['score_time'].mean()} (+/- {cross_val['score_time'].std()})\")\n",
    "print(f\"avg test score : {cross_val['test_score'].mean()} (+/- {cross_val['test_score'].std()})\")"
   ]
  },
  {
   "cell_type": "code",
   "execution_count": 42,
   "id": "76bfe302",
   "metadata": {},
   "outputs": [
    {
     "name": "stdout",
     "output_type": "stream",
     "text": [
      "avg fit time : 0.05234966278076172 (+/- 0.0026160453168196543)\n",
      "avg score time : 0.008614015579223634 (+/- 0.0004643980072429394)\n",
      "avg test score : 0.96 (+/- 0.03265986323710903)\n"
     ]
    }
   ],
   "source": [
    "cross_val = cross_validate(\n",
    "    estimator=bagging_model,\n",
    "    X=iris.data, y=iris.target,\n",
    "    cv=5\n",
    ")\n",
    "print(f\"avg fit time : {cross_val['fit_time'].mean()} (+/- {cross_val['fit_time'].std()})\")\n",
    "print(f\"avg score time : {cross_val['score_time'].mean()} (+/- {cross_val['score_time'].std()})\")\n",
    "print(f\"avg test score : {cross_val['test_score'].mean()} (+/- {cross_val['test_score'].std()})\")"
   ]
  },
  {
   "cell_type": "markdown",
   "id": "898d60f2",
   "metadata": {},
   "source": [
    "##### 와인 데이터"
   ]
  },
  {
   "cell_type": "code",
   "execution_count": 43,
   "id": "762c7283",
   "metadata": {},
   "outputs": [
    {
     "name": "stdout",
     "output_type": "stream",
     "text": [
      "avg fit time : 0.002207517623901367 (+/- 0.00042878821514459755)\n",
      "avg score time : 0.0008664608001708984 (+/- 0.00015571528997195813)\n",
      "avg test score : 0.9833333333333334 (+/- 0.022222222222222233)\n"
     ]
    }
   ],
   "source": [
    "cross_val = cross_validate(\n",
    "    estimator=base_model,\n",
    "    X=wine.data, y=wine.target,\n",
    "    cv=5\n",
    ")\n",
    "print(f\"avg fit time : {cross_val['fit_time'].mean()} (+/- {cross_val['fit_time'].std()})\")\n",
    "print(f\"avg score time : {cross_val['score_time'].mean()} (+/- {cross_val['score_time'].std()})\")\n",
    "print(f\"avg test score : {cross_val['test_score'].mean()} (+/- {cross_val['test_score'].std()})\")"
   ]
  },
  {
   "cell_type": "code",
   "execution_count": 44,
   "id": "e20ccab5",
   "metadata": {},
   "outputs": [
    {
     "name": "stdout",
     "output_type": "stream",
     "text": [
      "avg fit time : 0.0030369281768798826 (+/- 0.0004621296636626876)\n",
      "avg score time : 0.0009696006774902344 (+/- 0.00040602238541207164)\n",
      "avg test score : 0.9833333333333334 (+/- 0.022222222222222233)\n"
     ]
    }
   ],
   "source": [
    "cross_val = cross_validate(\n",
    "    estimator=base_model,\n",
    "    X=wine.data, y=wine.target,\n",
    "    cv=5\n",
    ")\n",
    "print(f\"avg fit time : {cross_val['fit_time'].mean()} (+/- {cross_val['fit_time'].std()})\")\n",
    "print(f\"avg score time : {cross_val['score_time'].mean()} (+/- {cross_val['score_time'].std()})\")\n",
    "print(f\"avg test score : {cross_val['test_score'].mean()} (+/- {cross_val['test_score'].std()})\")"
   ]
  },
  {
   "cell_type": "markdown",
   "id": "0a724d26",
   "metadata": {},
   "source": [
    "##### 유방암 데이터"
   ]
  },
  {
   "cell_type": "code",
   "execution_count": 45,
   "id": "1373cbf5",
   "metadata": {},
   "outputs": [
    {
     "name": "stdout",
     "output_type": "stream",
     "text": [
      "avg fit time : 0.006502199172973633 (+/- 0.0012991221755833734)\n",
      "avg score time : 0.00252680778503418 (+/- 0.0005303153496267931)\n",
      "avg test score : 0.9736376339077782 (+/- 0.014678541667933545)\n"
     ]
    }
   ],
   "source": [
    "cross_val = cross_validate(\n",
    "    estimator=base_model,\n",
    "    X=cancer.data, y=cancer.target,\n",
    "    cv=5\n",
    ")\n",
    "print(f\"avg fit time : {cross_val['fit_time'].mean()} (+/- {cross_val['fit_time'].std()})\")\n",
    "print(f\"avg score time : {cross_val['score_time'].mean()} (+/- {cross_val['score_time'].std()})\")\n",
    "print(f\"avg test score : {cross_val['test_score'].mean()} (+/- {cross_val['test_score'].std()})\")"
   ]
  },
  {
   "cell_type": "code",
   "execution_count": 46,
   "id": "a4bc576e",
   "metadata": {},
   "outputs": [
    {
     "name": "stdout",
     "output_type": "stream",
     "text": [
      "avg fit time : 0.008110332489013671 (+/- 0.0017323651550630364)\n",
      "avg score time : 0.003919649124145508 (+/- 0.0011337056834039372)\n",
      "avg test score : 0.9736376339077782 (+/- 0.014678541667933545)\n"
     ]
    }
   ],
   "source": [
    "cross_val = cross_validate(\n",
    "    estimator=base_model,\n",
    "    X=cancer.data, y=cancer.target,\n",
    "    cv=5\n",
    ")\n",
    "print(f\"avg fit time : {cross_val['fit_time'].mean()} (+/- {cross_val['fit_time'].std()})\")\n",
    "print(f\"avg score time : {cross_val['score_time'].mean()} (+/- {cross_val['score_time'].std()})\")\n",
    "print(f\"avg test score : {cross_val['test_score'].mean()} (+/- {cross_val['test_score'].std()})\")"
   ]
  },
  {
   "cell_type": "markdown",
   "id": "23c11bcd",
   "metadata": {},
   "source": [
    "#### Decision Tree"
   ]
  },
  {
   "cell_type": "code",
   "execution_count": 47,
   "id": "7d8cbd88",
   "metadata": {},
   "outputs": [],
   "source": [
    "base_model = make_pipeline(\n",
    "    StandardScaler(),\n",
    "    DecisionTreeClassifier(),\n",
    ")\n",
    "\n",
    "bagging_model = BaggingClassifier(base_model,\n",
    "                                  n_estimators=10,\n",
    "                                  max_samples=0.5,\n",
    "                                  max_features=0.5)"
   ]
  },
  {
   "cell_type": "markdown",
   "id": "4995ab1b",
   "metadata": {},
   "source": [
    "##### 붓꽃 데이터"
   ]
  },
  {
   "cell_type": "code",
   "execution_count": 48,
   "id": "ac539b5e",
   "metadata": {},
   "outputs": [
    {
     "name": "stdout",
     "output_type": "stream",
     "text": [
      "avg fit time : 0.0021028518676757812 (+/- 0.0005643025590541546)\n",
      "avg score time : 0.0006976127624511719 (+/- 0.00037735053150881194)\n",
      "avg test score : 0.9666666666666668 (+/- 0.036514837167011066)\n"
     ]
    }
   ],
   "source": [
    "cross_val = cross_validate(\n",
    "    estimator=base_model,\n",
    "    X=iris.data, y=iris.target,\n",
    "    cv=5\n",
    ")\n",
    "print(f\"avg fit time : {cross_val['fit_time'].mean()} (+/- {cross_val['fit_time'].std()})\")\n",
    "print(f\"avg score time : {cross_val['score_time'].mean()} (+/- {cross_val['score_time'].std()})\")\n",
    "print(f\"avg test score : {cross_val['test_score'].mean()} (+/- {cross_val['test_score'].std()})\")"
   ]
  },
  {
   "cell_type": "code",
   "execution_count": 49,
   "id": "81200d76",
   "metadata": {},
   "outputs": [
    {
     "name": "stdout",
     "output_type": "stream",
     "text": [
      "avg fit time : 0.04739022254943848 (+/- 0.0017199157970747478)\n",
      "avg score time : 0.005189657211303711 (+/- 0.0007804914682483853)\n",
      "avg test score : 0.9466666666666667 (+/- 0.03399346342395189)\n"
     ]
    }
   ],
   "source": [
    "cross_val = cross_validate(\n",
    "    estimator=bagging_model,\n",
    "    X=iris.data, y=iris.target,\n",
    "    cv=5\n",
    ")\n",
    "print(f\"avg fit time : {cross_val['fit_time'].mean()} (+/- {cross_val['fit_time'].std()})\")\n",
    "print(f\"avg score time : {cross_val['score_time'].mean()} (+/- {cross_val['score_time'].std()})\")\n",
    "print(f\"avg test score : {cross_val['test_score'].mean()} (+/- {cross_val['test_score'].std()})\")"
   ]
  },
  {
   "cell_type": "markdown",
   "id": "8a427041",
   "metadata": {},
   "source": [
    "##### 와인 데이터"
   ]
  },
  {
   "cell_type": "code",
   "execution_count": 51,
   "id": "4999ea9d",
   "metadata": {},
   "outputs": [
    {
     "name": "stdout",
     "output_type": "stream",
     "text": [
      "avg fit time : 0.002028656005859375 (+/- 0.00021545354983891314)\n",
      "avg score time : 0.00014910697937011718 (+/- 0.0002039013675332609)\n",
      "avg test score : 0.8709523809523809 (+/- 0.05700512501657816)\n"
     ]
    }
   ],
   "source": [
    "cross_val = cross_validate(\n",
    "    estimator=base_model,\n",
    "    X=wine.data, y=wine.target,\n",
    "    cv=5\n",
    ")\n",
    "print(f\"avg fit time : {cross_val['fit_time'].mean()} (+/- {cross_val['fit_time'].std()})\")\n",
    "print(f\"avg score time : {cross_val['score_time'].mean()} (+/- {cross_val['score_time'].std()})\")\n",
    "print(f\"avg test score : {cross_val['test_score'].mean()} (+/- {cross_val['test_score'].std()})\")"
   ]
  },
  {
   "cell_type": "code",
   "execution_count": 53,
   "id": "b6d0282d",
   "metadata": {},
   "outputs": [
    {
     "name": "stdout",
     "output_type": "stream",
     "text": [
      "avg fit time : 0.04473419189453125 (+/- 0.008671522061709624)\n",
      "avg score time : 0.004874420166015625 (+/- 0.0013478889763924578)\n",
      "avg test score : 0.9553968253968254 (+/- 0.028236127772140195)\n"
     ]
    }
   ],
   "source": [
    "cross_val = cross_validate(\n",
    "    estimator=bagging_model,\n",
    "    X=wine.data, y=wine.target,\n",
    "    cv=5\n",
    ")\n",
    "print(f\"avg fit time : {cross_val['fit_time'].mean()} (+/- {cross_val['fit_time'].std()})\")\n",
    "print(f\"avg score time : {cross_val['score_time'].mean()} (+/- {cross_val['score_time'].std()})\")\n",
    "print(f\"avg test score : {cross_val['test_score'].mean()} (+/- {cross_val['test_score'].std()})\")"
   ]
  },
  {
   "cell_type": "markdown",
   "id": "00fdb07d",
   "metadata": {},
   "source": [
    "##### 유방암 데이터"
   ]
  },
  {
   "cell_type": "code",
   "execution_count": 54,
   "id": "1fbab63d",
   "metadata": {},
   "outputs": [
    {
     "name": "stdout",
     "output_type": "stream",
     "text": [
      "avg fit time : 0.010175848007202148 (+/- 0.003047805613393002)\n",
      "avg score time : 0.000599813461303711 (+/- 0.0005138284997769589)\n",
      "avg test score : 0.919111939139885 (+/- 0.026433570377351927)\n"
     ]
    }
   ],
   "source": [
    "cross_val = cross_validate(\n",
    "    estimator=base_model,\n",
    "    X=cancer.data, y=cancer.target,\n",
    "    cv=5\n",
    ")\n",
    "print(f\"avg fit time : {cross_val['fit_time'].mean()} (+/- {cross_val['fit_time'].std()})\")\n",
    "print(f\"avg score time : {cross_val['score_time'].mean()} (+/- {cross_val['score_time'].std()})\")\n",
    "print(f\"avg test score : {cross_val['test_score'].mean()} (+/- {cross_val['test_score'].std()})\")"
   ]
  },
  {
   "cell_type": "code",
   "execution_count": 55,
   "id": "9c295f2f",
   "metadata": {},
   "outputs": [
    {
     "name": "stdout",
     "output_type": "stream",
     "text": [
      "avg fit time : 0.08575587272644043 (+/- 0.024134684550311387)\n",
      "avg score time : 0.008229255676269531 (+/- 0.0016934803232578053)\n",
      "avg test score : 0.9543083372147182 (+/- 0.01607149078080657)\n"
     ]
    }
   ],
   "source": [
    "cross_val = cross_validate(\n",
    "    estimator=bagging_model,\n",
    "    X=cancer.data, y=cancer.target,\n",
    "    cv=5\n",
    ")\n",
    "print(f\"avg fit time : {cross_val['fit_time'].mean()} (+/- {cross_val['fit_time'].std()})\")\n",
    "print(f\"avg score time : {cross_val['score_time'].mean()} (+/- {cross_val['score_time'].std()})\")\n",
    "print(f\"avg test score : {cross_val['test_score'].mean()} (+/- {cross_val['test_score'].std()})\")"
   ]
  },
  {
   "cell_type": "markdown",
   "id": "dcd5936a",
   "metadata": {},
   "source": [
    "### Bagging을 사용한 회귀"
   ]
  },
  {
   "cell_type": "markdown",
   "id": "c417ed9a",
   "metadata": {},
   "source": [
    "#### 데이터셋 불러오기"
   ]
  },
  {
   "cell_type": "code",
   "execution_count": 58,
   "id": "1482c921",
   "metadata": {},
   "outputs": [],
   "source": [
    "boston = load_boston()\n",
    "diabetes = load_diabetes()"
   ]
  },
  {
   "cell_type": "markdown",
   "id": "9066fd7b",
   "metadata": {},
   "source": [
    "#### KNN"
   ]
  },
  {
   "cell_type": "code",
   "execution_count": 62,
   "id": "8025a0ec",
   "metadata": {},
   "outputs": [],
   "source": [
    "base_model = make_pipeline(\n",
    "    StandardScaler(),\n",
    "    KNeighborsRegressor(),\n",
    ")\n",
    "\n",
    "bagging_model = BaggingRegressor(base_model,\n",
    "                                  n_estimators=10,\n",
    "                                  max_samples=0.5,\n",
    "                                  max_features=0.5)"
   ]
  },
  {
   "cell_type": "markdown",
   "id": "95b68fbf",
   "metadata": {},
   "source": [
    "##### 보스턴 주택 가격 데이터"
   ]
  },
  {
   "cell_type": "code",
   "execution_count": 63,
   "id": "6db1bf3b",
   "metadata": {},
   "outputs": [
    {
     "name": "stdout",
     "output_type": "stream",
     "text": [
      "avg fit time : 0.002860546112060547 (+/- 0.0003480018540441986)\n",
      "avg score time : 0.002646780014038086 (+/- 0.0003971920034081832)\n",
      "avg test score : 0.47357748833823543 (+/- 0.13243123464477455)\n"
     ]
    }
   ],
   "source": [
    "cross_val = cross_validate(\n",
    "    estimator=base_model,\n",
    "    X=boston.data, y=boston.target,\n",
    "    cv=5\n",
    ")\n",
    "print(f\"avg fit time : {cross_val['fit_time'].mean()} (+/- {cross_val['fit_time'].std()})\")\n",
    "print(f\"avg score time : {cross_val['score_time'].mean()} (+/- {cross_val['score_time'].std()})\")\n",
    "print(f\"avg test score : {cross_val['test_score'].mean()} (+/- {cross_val['test_score'].std()})\")"
   ]
  },
  {
   "cell_type": "code",
   "execution_count": 64,
   "id": "5b0f2ac6",
   "metadata": {},
   "outputs": [
    {
     "name": "stdout",
     "output_type": "stream",
     "text": [
      "avg fit time : 0.03819551467895508 (+/- 0.004984743111268522)\n",
      "avg score time : 0.0178652286529541 (+/- 0.002467115736996637)\n",
      "avg test score : 0.4311994846984667 (+/- 0.12495268948587904)\n"
     ]
    }
   ],
   "source": [
    "cross_val = cross_validate(\n",
    "    estimator=bagging_model,\n",
    "    X=boston.data, y=boston.target,\n",
    "    cv=5\n",
    ")\n",
    "print(f\"avg fit time : {cross_val['fit_time'].mean()} (+/- {cross_val['fit_time'].std()})\")\n",
    "print(f\"avg score time : {cross_val['score_time'].mean()} (+/- {cross_val['score_time'].std()})\")\n",
    "print(f\"avg test score : {cross_val['test_score'].mean()} (+/- {cross_val['test_score'].std()})\")"
   ]
  },
  {
   "cell_type": "markdown",
   "id": "f7dc0ab1",
   "metadata": {},
   "source": [
    "##### 당뇨병 데이터"
   ]
  },
  {
   "cell_type": "code",
   "execution_count": 67,
   "id": "d6684ba9",
   "metadata": {},
   "outputs": [
    {
     "name": "stdout",
     "output_type": "stream",
     "text": [
      "avg fit time : 0.0026103496551513673 (+/- 0.0012892527871185156)\n",
      "avg score time : 0.0024349212646484373 (+/- 0.00020069675505003299)\n",
      "avg test score : 0.3689720650295623 (+/- 0.044659049060165365)\n"
     ]
    }
   ],
   "source": [
    "cross_val = cross_validate(\n",
    "    estimator=base_model,\n",
    "    X=diabetes.data, y=diabetes.target,\n",
    "    cv=5\n",
    ")\n",
    "print(f\"avg fit time : {cross_val['fit_time'].mean()} (+/- {cross_val['fit_time'].std()})\")\n",
    "print(f\"avg score time : {cross_val['score_time'].mean()} (+/- {cross_val['score_time'].std()})\")\n",
    "print(f\"avg test score : {cross_val['test_score'].mean()} (+/- {cross_val['test_score'].std()})\")"
   ]
  },
  {
   "cell_type": "code",
   "execution_count": 68,
   "id": "4060f9f4",
   "metadata": {},
   "outputs": [
    {
     "name": "stdout",
     "output_type": "stream",
     "text": [
      "avg fit time : 0.03670506477355957 (+/- 0.007248941412013783)\n",
      "avg score time : 0.0668802261352539 (+/- 0.09586039680499077)\n",
      "avg test score : 0.4163070665101819 (+/- 0.06334312957293502)\n"
     ]
    }
   ],
   "source": [
    "cross_val = cross_validate(\n",
    "    estimator=bagging_model,\n",
    "    X=diabetes.data, y=diabetes.target,\n",
    "    cv=5\n",
    ")\n",
    "print(f\"avg fit time : {cross_val['fit_time'].mean()} (+/- {cross_val['fit_time'].std()})\")\n",
    "print(f\"avg score time : {cross_val['score_time'].mean()} (+/- {cross_val['score_time'].std()})\")\n",
    "print(f\"avg test score : {cross_val['test_score'].mean()} (+/- {cross_val['test_score'].std()})\")"
   ]
  },
  {
   "cell_type": "markdown",
   "id": "06cfba4e",
   "metadata": {},
   "source": [
    "#### SVR"
   ]
  },
  {
   "cell_type": "code",
   "execution_count": 75,
   "id": "bef43ecb",
   "metadata": {},
   "outputs": [],
   "source": [
    "base_model = make_pipeline(\n",
    "    StandardScaler(),\n",
    "    SVR(),\n",
    ")\n",
    "\n",
    "bagging_model = BaggingRegressor(base_model,\n",
    "                                  n_estimators=10,\n",
    "                                  max_samples=0.5,\n",
    "                                  max_features=0.5)"
   ]
  },
  {
   "cell_type": "markdown",
   "id": "078ad3a3",
   "metadata": {},
   "source": [
    "##### 보스턴 주택 가격 데이터"
   ]
  },
  {
   "cell_type": "code",
   "execution_count": 76,
   "id": "73abffdf",
   "metadata": {},
   "outputs": [
    {
     "name": "stdout",
     "output_type": "stream",
     "text": [
      "avg fit time : 0.019654178619384767 (+/- 0.005791641060132959)\n",
      "avg score time : 0.009356164932250976 (+/- 0.001991823254153647)\n",
      "avg test score : 0.17631266230186618 (+/- 0.5224914915128981)\n"
     ]
    }
   ],
   "source": [
    "cross_val = cross_validate(\n",
    "    estimator=base_model,\n",
    "    X=boston.data, y=boston.target,\n",
    "    cv=5\n",
    ")\n",
    "print(f\"avg fit time : {cross_val['fit_time'].mean()} (+/- {cross_val['fit_time'].std()})\")\n",
    "print(f\"avg score time : {cross_val['score_time'].mean()} (+/- {cross_val['score_time'].std()})\")\n",
    "print(f\"avg test score : {cross_val['test_score'].mean()} (+/- {cross_val['test_score'].std()})\")"
   ]
  },
  {
   "cell_type": "code",
   "execution_count": 77,
   "id": "80078fbb",
   "metadata": {},
   "outputs": [
    {
     "name": "stdout",
     "output_type": "stream",
     "text": [
      "avg fit time : 0.09568767547607422 (+/- 0.004352266292093822)\n",
      "avg score time : 0.05663719177246094 (+/- 0.0007580245164241572)\n",
      "avg test score : 0.21364546841074397 (+/- 0.26230309324050094)\n"
     ]
    }
   ],
   "source": [
    "cross_val = cross_validate(\n",
    "    estimator=bagging_model,\n",
    "    X=boston.data, y=boston.target,\n",
    "    cv=5\n",
    ")\n",
    "print(f\"avg fit time : {cross_val['fit_time'].mean()} (+/- {cross_val['fit_time'].std()})\")\n",
    "print(f\"avg score time : {cross_val['score_time'].mean()} (+/- {cross_val['score_time'].std()})\")\n",
    "print(f\"avg test score : {cross_val['test_score'].mean()} (+/- {cross_val['test_score'].std()})\")"
   ]
  },
  {
   "cell_type": "markdown",
   "id": "ee34aafe",
   "metadata": {},
   "source": [
    "##### 당뇨병 데이터"
   ]
  },
  {
   "cell_type": "code",
   "execution_count": 79,
   "id": "41a91e38",
   "metadata": {},
   "outputs": [
    {
     "name": "stdout",
     "output_type": "stream",
     "text": [
      "avg fit time : 0.011864042282104493 (+/- 0.0035704429015614137)\n",
      "avg score time : 0.006018638610839844 (+/- 0.0025145738329341062)\n",
      "avg test score : 0.14659936199629428 (+/- 0.021907980033429305)\n"
     ]
    }
   ],
   "source": [
    "cross_val = cross_validate(\n",
    "    estimator=base_model,\n",
    "    X=diabetes.data, y=diabetes.target,\n",
    "    cv=5\n",
    ")\n",
    "print(f\"avg fit time : {cross_val['fit_time'].mean()} (+/- {cross_val['fit_time'].std()})\")\n",
    "print(f\"avg score time : {cross_val['score_time'].mean()} (+/- {cross_val['score_time'].std()})\")\n",
    "print(f\"avg test score : {cross_val['test_score'].mean()} (+/- {cross_val['test_score'].std()})\")"
   ]
  },
  {
   "cell_type": "code",
   "execution_count": 81,
   "id": "2fe6c2b2",
   "metadata": {},
   "outputs": [
    {
     "name": "stdout",
     "output_type": "stream",
     "text": [
      "avg fit time : 0.07552108764648438 (+/- 0.014272631195582133)\n",
      "avg score time : 0.0453087329864502 (+/- 0.0033887533320828556)\n",
      "avg test score : 0.05935207349410818 (+/- 0.0446589071470321)\n"
     ]
    }
   ],
   "source": [
    "cross_val = cross_validate(\n",
    "    estimator=bagging_model,\n",
    "    X=diabetes.data, y=diabetes.target,\n",
    "    cv=5\n",
    ")\n",
    "print(f\"avg fit time : {cross_val['fit_time'].mean()} (+/- {cross_val['fit_time'].std()})\")\n",
    "print(f\"avg score time : {cross_val['score_time'].mean()} (+/- {cross_val['score_time'].std()})\")\n",
    "print(f\"avg test score : {cross_val['test_score'].mean()} (+/- {cross_val['test_score'].std()})\")"
   ]
  },
  {
   "cell_type": "markdown",
   "id": "9f650efd",
   "metadata": {},
   "source": [
    "#### Decision Tree"
   ]
  },
  {
   "cell_type": "code",
   "execution_count": 82,
   "id": "1fd58ebe",
   "metadata": {},
   "outputs": [],
   "source": [
    "base_model = make_pipeline(\n",
    "    StandardScaler(),\n",
    "    DecisionTreeRegressor(),\n",
    ")\n",
    "\n",
    "bagging_model = BaggingRegressor(base_model,\n",
    "                                  n_estimators=10,\n",
    "                                  max_samples=0.5,\n",
    "                                  max_features=0.5)"
   ]
  },
  {
   "cell_type": "markdown",
   "id": "fb0c4ccb",
   "metadata": {},
   "source": [
    "##### 보스턴 주택 가격 데이터"
   ]
  },
  {
   "cell_type": "code",
   "execution_count": 85,
   "id": "c1abd0d9",
   "metadata": {},
   "outputs": [
    {
     "name": "stdout",
     "output_type": "stream",
     "text": [
      "avg fit time : 0.006621170043945313 (+/- 0.0005879962001917221)\n",
      "avg score time : 0.0007555961608886718 (+/- 0.00031371570713753755)\n",
      "avg test score : 0.1820372111934045 (+/- 0.8289116977859968)\n"
     ]
    }
   ],
   "source": [
    "cross_val = cross_validate(\n",
    "    estimator=base_model,\n",
    "    X=boston.data, y=boston.target,\n",
    "    cv=5\n",
    ")\n",
    "print(f\"avg fit time : {cross_val['fit_time'].mean()} (+/- {cross_val['fit_time'].std()})\")\n",
    "print(f\"avg score time : {cross_val['score_time'].mean()} (+/- {cross_val['score_time'].std()})\")\n",
    "print(f\"avg test score : {cross_val['test_score'].mean()} (+/- {cross_val['test_score'].std()})\")"
   ]
  },
  {
   "cell_type": "code",
   "execution_count": 86,
   "id": "88a70d6a",
   "metadata": {},
   "outputs": [
    {
     "name": "stdout",
     "output_type": "stream",
     "text": [
      "avg fit time : 0.058515310287475586 (+/- 0.005044957523268689)\n",
      "avg score time : 0.005341958999633789 (+/- 0.0004421352670000398)\n",
      "avg test score : 0.5428443429929491 (+/- 0.2280368273121039)\n"
     ]
    }
   ],
   "source": [
    "cross_val = cross_validate(\n",
    "    estimator=bagging_model,\n",
    "    X=boston.data, y=boston.target,\n",
    "    cv=5\n",
    ")\n",
    "print(f\"avg fit time : {cross_val['fit_time'].mean()} (+/- {cross_val['fit_time'].std()})\")\n",
    "print(f\"avg score time : {cross_val['score_time'].mean()} (+/- {cross_val['score_time'].std()})\")\n",
    "print(f\"avg test score : {cross_val['test_score'].mean()} (+/- {cross_val['test_score'].std()})\")"
   ]
  },
  {
   "cell_type": "markdown",
   "id": "5d755b08",
   "metadata": {},
   "source": [
    "##### 당뇨병 데이터"
   ]
  },
  {
   "cell_type": "code",
   "execution_count": 87,
   "id": "17fa435d",
   "metadata": {},
   "outputs": [
    {
     "name": "stdout",
     "output_type": "stream",
     "text": [
      "avg fit time : 0.005097770690917968 (+/- 0.0005451357387477487)\n",
      "avg score time : 0.0009433269500732422 (+/- 0.000466775467938965)\n",
      "avg test score : -0.18678281107133418 (+/- 0.14381732939063377)\n"
     ]
    }
   ],
   "source": [
    "cross_val = cross_validate(\n",
    "    estimator=base_model,\n",
    "    X=diabetes.data, y=diabetes.target,\n",
    "    cv=5\n",
    ")\n",
    "print(f\"avg fit time : {cross_val['fit_time'].mean()} (+/- {cross_val['fit_time'].std()})\")\n",
    "print(f\"avg score time : {cross_val['score_time'].mean()} (+/- {cross_val['score_time'].std()})\")\n",
    "print(f\"avg test score : {cross_val['test_score'].mean()} (+/- {cross_val['test_score'].std()})\")"
   ]
  },
  {
   "cell_type": "code",
   "execution_count": 88,
   "id": "b6e3f0ef",
   "metadata": {},
   "outputs": [
    {
     "name": "stdout",
     "output_type": "stream",
     "text": [
      "avg fit time : 0.049727773666381835 (+/- 0.010924293273202773)\n",
      "avg score time : 0.0053116798400878905 (+/- 0.0006788559889584064)\n",
      "avg test score : 0.35570977100944295 (+/- 0.025054946221333595)\n"
     ]
    }
   ],
   "source": [
    "cross_val = cross_validate(\n",
    "    estimator=bagging_model,\n",
    "    X=diabetes.data, y=diabetes.target,\n",
    "    cv=5\n",
    ")\n",
    "print(f\"avg fit time : {cross_val['fit_time'].mean()} (+/- {cross_val['fit_time'].std()})\")\n",
    "print(f\"avg score time : {cross_val['score_time'].mean()} (+/- {cross_val['score_time'].std()})\")\n",
    "print(f\"avg test score : {cross_val['test_score'].mean()} (+/- {cross_val['test_score'].std()})\")"
   ]
  },
  {
   "cell_type": "markdown",
   "id": "f158e4b9",
   "metadata": {},
   "source": [
    "## Forests of randomized trees\n",
    "\n",
    "* `sklearn.ensemble` 모듈에는 무작위 결정 트리를 기반으로하는 두 개의 평균화 알고리즘이 존재\n",
    "  * Random Forest\n",
    "  * Extra-Trees\n",
    "* 모델 구성에 임의성을 추가해 다양한 모델 집합이 생성\n",
    "* 앙상블 모델의 예측은 각 모델의 평균"
   ]
  },
  {
   "cell_type": "code",
   "execution_count": 101,
   "id": "33138320",
   "metadata": {},
   "outputs": [],
   "source": [
    "from sklearn.ensemble import RandomForestClassifier, ExtraTreesClassifier\n",
    "from sklearn.ensemble import RandomForestRegressor, ExtraTreesRegressor"
   ]
  },
  {
   "cell_type": "markdown",
   "id": "f79c516f",
   "metadata": {},
   "source": [
    "### Random Forests 분류"
   ]
  },
  {
   "cell_type": "code",
   "execution_count": 90,
   "id": "c267b99f",
   "metadata": {},
   "outputs": [],
   "source": [
    "model = make_pipeline(\n",
    "    StandardScaler(),\n",
    "    RandomForestClassifier()\n",
    ")"
   ]
  },
  {
   "cell_type": "code",
   "execution_count": 91,
   "id": "31b53986",
   "metadata": {},
   "outputs": [
    {
     "name": "stdout",
     "output_type": "stream",
     "text": [
      "avg fit time : 0.24234533309936523 (+/- 0.020834594588349444)\n",
      "avg score time : 0.02151827812194824 (+/- 0.0073406482810394755)\n",
      "avg test score : 0.96 (+/- 0.024944382578492935)\n"
     ]
    }
   ],
   "source": [
    "cross_val = cross_validate(\n",
    "    estimator=model,\n",
    "    X=iris.data, y=iris.target,\n",
    "    cv=5\n",
    ")\n",
    "print(f\"avg fit time : {cross_val['fit_time'].mean()} (+/- {cross_val['fit_time'].std()})\")\n",
    "print(f\"avg score time : {cross_val['score_time'].mean()} (+/- {cross_val['score_time'].std()})\")\n",
    "print(f\"avg test score : {cross_val['test_score'].mean()} (+/- {cross_val['test_score'].std()})\")"
   ]
  },
  {
   "cell_type": "code",
   "execution_count": 92,
   "id": "c7a72656",
   "metadata": {},
   "outputs": [
    {
     "name": "stdout",
     "output_type": "stream",
     "text": [
      "avg fit time : 0.26145339012145996 (+/- 0.022638304787056435)\n",
      "avg score time : 0.022751617431640624 (+/- 0.001171792660430666)\n",
      "avg test score : 0.9609523809523809 (+/- 0.02214499050996228)\n"
     ]
    }
   ],
   "source": [
    "cross_val = cross_validate(\n",
    "    estimator=model,\n",
    "    X=wine.data, y=wine.target,\n",
    "    cv=5\n",
    ")\n",
    "print(f\"avg fit time : {cross_val['fit_time'].mean()} (+/- {cross_val['fit_time'].std()})\")\n",
    "print(f\"avg score time : {cross_val['score_time'].mean()} (+/- {cross_val['score_time'].std()})\")\n",
    "print(f\"avg test score : {cross_val['test_score'].mean()} (+/- {cross_val['test_score'].std()})\")"
   ]
  },
  {
   "cell_type": "code",
   "execution_count": 93,
   "id": "846536ca",
   "metadata": {},
   "outputs": [
    {
     "name": "stdout",
     "output_type": "stream",
     "text": [
      "avg fit time : 0.3896982669830322 (+/- 0.020585521478985784)\n",
      "avg score time : 0.02173953056335449 (+/- 0.002469069962327234)\n",
      "avg test score : 0.956078248719143 (+/- 0.024789109260795167)\n"
     ]
    }
   ],
   "source": [
    "cross_val = cross_validate(\n",
    "    estimator=model,\n",
    "    X=cancer.data, y=cancer.target,\n",
    "    cv=5\n",
    ")\n",
    "print(f\"avg fit time : {cross_val['fit_time'].mean()} (+/- {cross_val['fit_time'].std()})\")\n",
    "print(f\"avg score time : {cross_val['score_time'].mean()} (+/- {cross_val['score_time'].std()})\")\n",
    "print(f\"avg test score : {cross_val['test_score'].mean()} (+/- {cross_val['test_score'].std()})\")"
   ]
  },
  {
   "cell_type": "markdown",
   "id": "f1cb63b8",
   "metadata": {},
   "source": [
    "### Random Forests 회귀"
   ]
  },
  {
   "cell_type": "code",
   "execution_count": 94,
   "id": "7f840c4e",
   "metadata": {},
   "outputs": [],
   "source": [
    "model = make_pipeline(\n",
    "    StandardScaler(),\n",
    "    RandomForestRegressor()\n",
    ")"
   ]
  },
  {
   "cell_type": "code",
   "execution_count": 95,
   "id": "08882a6d",
   "metadata": {},
   "outputs": [
    {
     "name": "stdout",
     "output_type": "stream",
     "text": [
      "avg fit time : 0.6093801021575928 (+/- 0.022296018794226952)\n",
      "avg score time : 0.021938657760620116 (+/- 0.005789284484995973)\n",
      "avg test score : 0.6301319618501056 (+/- 0.19782047590241902)\n"
     ]
    }
   ],
   "source": [
    "cross_val = cross_validate(\n",
    "    estimator=model,\n",
    "    X=boston.data, y=boston.target,\n",
    "    cv=5\n",
    ")\n",
    "print(f\"avg fit time : {cross_val['fit_time'].mean()} (+/- {cross_val['fit_time'].std()})\")\n",
    "print(f\"avg score time : {cross_val['score_time'].mean()} (+/- {cross_val['score_time'].std()})\")\n",
    "print(f\"avg test score : {cross_val['test_score'].mean()} (+/- {cross_val['test_score'].std()})\")"
   ]
  },
  {
   "cell_type": "code",
   "execution_count": 96,
   "id": "afbf05f7",
   "metadata": {},
   "outputs": [
    {
     "name": "stdout",
     "output_type": "stream",
     "text": [
      "avg fit time : 0.5019397258758544 (+/- 0.012632698583519581)\n",
      "avg score time : 0.023879098892211913 (+/- 0.004637914970035239)\n",
      "avg test score : 0.4236616592883712 (+/- 0.04878855324396473)\n"
     ]
    }
   ],
   "source": [
    "cross_val = cross_validate(\n",
    "    estimator=model,\n",
    "    X=diabetes.data, y=diabetes.target,\n",
    "    cv=5\n",
    ")\n",
    "print(f\"avg fit time : {cross_val['fit_time'].mean()} (+/- {cross_val['fit_time'].std()})\")\n",
    "print(f\"avg score time : {cross_val['score_time'].mean()} (+/- {cross_val['score_time'].std()})\")\n",
    "print(f\"avg test score : {cross_val['test_score'].mean()} (+/- {cross_val['test_score'].std()})\")"
   ]
  },
  {
   "cell_type": "markdown",
   "id": "7f36be07",
   "metadata": {},
   "source": [
    "### Extremely Randomized Trees 분류"
   ]
  },
  {
   "cell_type": "code",
   "execution_count": 97,
   "id": "e2947e77",
   "metadata": {},
   "outputs": [],
   "source": [
    "model = make_pipeline(\n",
    "    StandardScaler(),\n",
    "    ExtraTreesClassifier()\n",
    ")"
   ]
  },
  {
   "cell_type": "code",
   "execution_count": 98,
   "id": "f95708f4",
   "metadata": {},
   "outputs": [
    {
     "name": "stdout",
     "output_type": "stream",
     "text": [
      "avg fit time : 0.21244435310363768 (+/- 0.042646894075242615)\n",
      "avg score time : 0.022151088714599608 (+/- 0.006948866058073854)\n",
      "avg test score : 0.9466666666666667 (+/- 0.039999999999999994)\n"
     ]
    }
   ],
   "source": [
    "cross_val = cross_validate(\n",
    "    estimator=model,\n",
    "    X=iris.data, y=iris.target,\n",
    "    cv=5\n",
    ")\n",
    "print(f\"avg fit time : {cross_val['fit_time'].mean()} (+/- {cross_val['fit_time'].std()})\")\n",
    "print(f\"avg score time : {cross_val['score_time'].mean()} (+/- {cross_val['score_time'].std()})\")\n",
    "print(f\"avg test score : {cross_val['test_score'].mean()} (+/- {cross_val['test_score'].std()})\")"
   ]
  },
  {
   "cell_type": "code",
   "execution_count": 99,
   "id": "cefdf16f",
   "metadata": {},
   "outputs": [
    {
     "name": "stdout",
     "output_type": "stream",
     "text": [
      "avg fit time : 0.18783507347106934 (+/- 0.022337570200006072)\n",
      "avg score time : 0.021895408630371094 (+/- 0.0005094953156503005)\n",
      "avg test score : 0.9777777777777779 (+/- 0.020786985482077462)\n"
     ]
    }
   ],
   "source": [
    "cross_val = cross_validate(\n",
    "    estimator=model,\n",
    "    X=wine.data, y=wine.target,\n",
    "    cv=5\n",
    ")\n",
    "print(f\"avg fit time : {cross_val['fit_time'].mean()} (+/- {cross_val['fit_time'].std()})\")\n",
    "print(f\"avg score time : {cross_val['score_time'].mean()} (+/- {cross_val['score_time'].std()})\")\n",
    "print(f\"avg test score : {cross_val['test_score'].mean()} (+/- {cross_val['test_score'].std()})\")"
   ]
  },
  {
   "cell_type": "code",
   "execution_count": 100,
   "id": "1a8df938",
   "metadata": {},
   "outputs": [
    {
     "name": "stdout",
     "output_type": "stream",
     "text": [
      "avg fit time : 0.2253955841064453 (+/- 0.01106308123605771)\n",
      "avg score time : 0.02423892021179199 (+/- 0.0008886796936744768)\n",
      "avg test score : 0.9648657040832169 (+/- 0.01566592330434181)\n"
     ]
    }
   ],
   "source": [
    "cross_val = cross_validate(\n",
    "    estimator=model,\n",
    "    X=cancer.data, y=cancer.target,\n",
    "    cv=5\n",
    ")\n",
    "print(f\"avg fit time : {cross_val['fit_time'].mean()} (+/- {cross_val['fit_time'].std()})\")\n",
    "print(f\"avg score time : {cross_val['score_time'].mean()} (+/- {cross_val['score_time'].std()})\")\n",
    "print(f\"avg test score : {cross_val['test_score'].mean()} (+/- {cross_val['test_score'].std()})\")"
   ]
  },
  {
   "cell_type": "markdown",
   "id": "4934b80a",
   "metadata": {},
   "source": [
    "### Extremely Randomized Trees 회귀"
   ]
  },
  {
   "cell_type": "code",
   "execution_count": 103,
   "id": "1fc05fec",
   "metadata": {},
   "outputs": [],
   "source": [
    "model = make_pipeline(\n",
    "    StandardScaler(),\n",
    "    ExtraTreesRegressor()\n",
    ")"
   ]
  },
  {
   "cell_type": "code",
   "execution_count": 104,
   "id": "09d8a57f",
   "metadata": {},
   "outputs": [
    {
     "name": "stdout",
     "output_type": "stream",
     "text": [
      "avg fit time : 0.3675689697265625 (+/- 0.023237726932160356)\n",
      "avg score time : 0.020147037506103516 (+/- 0.0007336142452885374)\n",
      "avg test score : 0.6062161780407413 (+/- 0.2925219438620807)\n"
     ]
    }
   ],
   "source": [
    "cross_val = cross_validate(\n",
    "    estimator=model,\n",
    "    X=boston.data, y=boston.target,\n",
    "    cv=5\n",
    ")\n",
    "print(f\"avg fit time : {cross_val['fit_time'].mean()} (+/- {cross_val['fit_time'].std()})\")\n",
    "print(f\"avg score time : {cross_val['score_time'].mean()} (+/- {cross_val['score_time'].std()})\")\n",
    "print(f\"avg test score : {cross_val['test_score'].mean()} (+/- {cross_val['test_score'].std()})\")"
   ]
  },
  {
   "cell_type": "code",
   "execution_count": 105,
   "id": "1f35704f",
   "metadata": {},
   "outputs": [
    {
     "name": "stdout",
     "output_type": "stream",
     "text": [
      "avg fit time : 0.33066482543945314 (+/- 0.026499108355507305)\n",
      "avg score time : 0.021920394897460938 (+/- 0.0022851051439778444)\n",
      "avg test score : 0.4445641912733319 (+/- 0.0430121555079802)\n"
     ]
    }
   ],
   "source": [
    "cross_val = cross_validate(\n",
    "    estimator=model,\n",
    "    X=diabetes.data, y=diabetes.target,\n",
    "    cv=5\n",
    ")\n",
    "print(f\"avg fit time : {cross_val['fit_time'].mean()} (+/- {cross_val['fit_time'].std()})\")\n",
    "print(f\"avg score time : {cross_val['score_time'].mean()} (+/- {cross_val['score_time'].std()})\")\n",
    "print(f\"avg test score : {cross_val['test_score'].mean()} (+/- {cross_val['test_score'].std()})\")"
   ]
  },
  {
   "cell_type": "markdown",
   "id": "280deb1b",
   "metadata": {},
   "source": [
    "### Random Forest, Extra Tree 시각화\n",
    "\n",
    "* 결정 트리, Random Forest, Extra Tree의 결정 경계와 회귀식 시각화"
   ]
  },
  {
   "cell_type": "markdown",
   "id": "1f911f7d",
   "metadata": {},
   "source": [
    "## AdaBoost\n",
    "\n",
    "* 대표적인 부스팅 알고리즘\n",
    "* 일련의 약한 모델들을 학습\n",
    "* 수정된 버전의 데이터를 반복 학습 (가중치가 적용된)\n",
    "* 가중치 투표(또는 합)을 통해 각 모델의 예측 값을 결합\n",
    "* 첫 단계에서는 원본 데이터를 학습하고 연속적인 반복마다 개별 샘플에 대한 가중치가 수정되고 다시 모델이 학습\n",
    "  * 잘못 예측된 샘플은 가중치 증가, 올바르게 예측된 샘플은 가중치 감소\n",
    "  * 각각의 약한 모델들은 예측하기 어려운 샘플에 집중하게 됨\n",
    "\n",
    "![AdaBoost](https://scikit-learn.org/stable/_images/sphx_glr_plot_adaboost_hastie_10_2_001.png)"
   ]
  },
  {
   "cell_type": "code",
   "execution_count": 106,
   "id": "6e10d384",
   "metadata": {},
   "outputs": [],
   "source": [
    "from sklearn.ensemble import AdaBoostClassifier\n",
    "from sklearn.ensemble import AdaBoostRegressor"
   ]
  },
  {
   "cell_type": "markdown",
   "id": "d0d39308",
   "metadata": {},
   "source": [
    "### AdaBoost 분류"
   ]
  },
  {
   "cell_type": "code",
   "execution_count": 108,
   "id": "0a4fedaa",
   "metadata": {},
   "outputs": [],
   "source": [
    "model = make_pipeline(\n",
    "    StandardScaler(),\n",
    "    AdaBoostClassifier()\n",
    ")"
   ]
  },
  {
   "cell_type": "code",
   "execution_count": 109,
   "id": "05e9da24",
   "metadata": {},
   "outputs": [
    {
     "name": "stdout",
     "output_type": "stream",
     "text": [
      "avg fit time : 0.131325626373291 (+/- 0.0019827326971137787)\n",
      "avg score time : 0.015561628341674804 (+/- 0.0004880660996809424)\n",
      "avg test score : 0.9466666666666667 (+/- 0.03399346342395189)\n"
     ]
    }
   ],
   "source": [
    "cross_val = cross_validate(\n",
    "    estimator=model,\n",
    "    X=iris.data, y=iris.target,\n",
    "    cv=5\n",
    ")\n",
    "print(f\"avg fit time : {cross_val['fit_time'].mean()} (+/- {cross_val['fit_time'].std()})\")\n",
    "print(f\"avg score time : {cross_val['score_time'].mean()} (+/- {cross_val['score_time'].std()})\")\n",
    "print(f\"avg test score : {cross_val['test_score'].mean()} (+/- {cross_val['test_score'].std()})\")"
   ]
  },
  {
   "cell_type": "code",
   "execution_count": 110,
   "id": "2d15a00a",
   "metadata": {},
   "outputs": [
    {
     "name": "stdout",
     "output_type": "stream",
     "text": [
      "avg fit time : 0.14134840965270995 (+/- 0.017416240826568653)\n",
      "avg score time : 0.01541728973388672 (+/- 0.00046465136001095703)\n",
      "avg test score : 0.8085714285714285 (+/- 0.16822356718459935)\n"
     ]
    }
   ],
   "source": [
    "cross_val = cross_validate(\n",
    "    estimator=model,\n",
    "    X=wine.data, y=wine.target,\n",
    "    cv=5\n",
    ")\n",
    "print(f\"avg fit time : {cross_val['fit_time'].mean()} (+/- {cross_val['fit_time'].std()})\")\n",
    "print(f\"avg score time : {cross_val['score_time'].mean()} (+/- {cross_val['score_time'].std()})\")\n",
    "print(f\"avg test score : {cross_val['test_score'].mean()} (+/- {cross_val['test_score'].std()})\")"
   ]
  },
  {
   "cell_type": "code",
   "execution_count": 111,
   "id": "8821dd09",
   "metadata": {},
   "outputs": [
    {
     "name": "stdout",
     "output_type": "stream",
     "text": [
      "avg fit time : 0.29923286437988283 (+/- 0.04197284873494866)\n",
      "avg score time : 0.019182205200195312 (+/- 0.0018014693145320827)\n",
      "avg test score : 0.9701133364384411 (+/- 0.019709915473893072)\n"
     ]
    }
   ],
   "source": [
    "cross_val = cross_validate(\n",
    "    estimator=model,\n",
    "    X=cancer.data, y=cancer.target,\n",
    "    cv=5\n",
    ")\n",
    "print(f\"avg fit time : {cross_val['fit_time'].mean()} (+/- {cross_val['fit_time'].std()})\")\n",
    "print(f\"avg score time : {cross_val['score_time'].mean()} (+/- {cross_val['score_time'].std()})\")\n",
    "print(f\"avg test score : {cross_val['test_score'].mean()} (+/- {cross_val['test_score'].std()})\")"
   ]
  },
  {
   "cell_type": "markdown",
   "id": "8c0c6f67",
   "metadata": {},
   "source": [
    "### AdaBoost 회귀"
   ]
  },
  {
   "cell_type": "code",
   "execution_count": 112,
   "id": "9c523bd1",
   "metadata": {},
   "outputs": [],
   "source": [
    "model = make_pipeline(\n",
    "    StandardScaler(),\n",
    "    AdaBoostRegressor()\n",
    ")"
   ]
  },
  {
   "cell_type": "code",
   "execution_count": 113,
   "id": "77cc2bdd",
   "metadata": {},
   "outputs": [
    {
     "name": "stdout",
     "output_type": "stream",
     "text": [
      "avg fit time : 0.2032069206237793 (+/- 0.02990735856163627)\n",
      "avg score time : 0.009979724884033203 (+/- 0.0006462544996559159)\n",
      "avg test score : 0.5919171751197495 (+/- 0.18942551475778335)\n"
     ]
    }
   ],
   "source": [
    "cross_val = cross_validate(\n",
    "    estimator=model,\n",
    "    X=boston.data, y=boston.target,\n",
    "    cv=5\n",
    ")\n",
    "print(f\"avg fit time : {cross_val['fit_time'].mean()} (+/- {cross_val['fit_time'].std()})\")\n",
    "print(f\"avg score time : {cross_val['score_time'].mean()} (+/- {cross_val['score_time'].std()})\")\n",
    "print(f\"avg test score : {cross_val['test_score'].mean()} (+/- {cross_val['test_score'].std()})\")"
   ]
  },
  {
   "cell_type": "code",
   "execution_count": 114,
   "id": "db7a1ca5",
   "metadata": {},
   "outputs": [
    {
     "name": "stdout",
     "output_type": "stream",
     "text": [
      "avg fit time : 0.16580696105957032 (+/- 0.01443250411680169)\n",
      "avg score time : 0.009401845932006835 (+/- 0.0006231574894104766)\n",
      "avg test score : 0.41770328410959257 (+/- 0.053933942965769005)\n"
     ]
    }
   ],
   "source": [
    "cross_val = cross_validate(\n",
    "    estimator=model,\n",
    "    X=diabetes.data, y=diabetes.target,\n",
    "    cv=5\n",
    ")\n",
    "print(f\"avg fit time : {cross_val['fit_time'].mean()} (+/- {cross_val['fit_time'].std()})\")\n",
    "print(f\"avg score time : {cross_val['score_time'].mean()} (+/- {cross_val['score_time'].std()})\")\n",
    "print(f\"avg test score : {cross_val['test_score'].mean()} (+/- {cross_val['test_score'].std()})\")"
   ]
  },
  {
   "cell_type": "markdown",
   "id": "c863c62c",
   "metadata": {},
   "source": [
    "## Gradient Tree Boosting\n",
    "\n",
    "* 임의의 차별화 가능한 손실함수로 일반화한 부스팅 알고리즘\n",
    "* 웹 검색, 분류 및 회귀 등 다양한 분야에서 모두 사용 가능"
   ]
  },
  {
   "cell_type": "code",
   "execution_count": 120,
   "id": "88ab2974",
   "metadata": {},
   "outputs": [],
   "source": [
    "from sklearn.ensemble import GradientBoostingClassifier\n",
    "from sklearn.ensemble import GradientBoostingRegressor"
   ]
  },
  {
   "cell_type": "markdown",
   "id": "6a04bde2",
   "metadata": {},
   "source": [
    "### Gradient Tree Boosting 분류"
   ]
  },
  {
   "cell_type": "code",
   "execution_count": 121,
   "id": "63b5df3a",
   "metadata": {
    "scrolled": true
   },
   "outputs": [],
   "source": [
    "model = make_pipeline(\n",
    "    StandardScaler(),\n",
    "    GradientBoostingClassifier()\n",
    ")"
   ]
  },
  {
   "cell_type": "code",
   "execution_count": 122,
   "id": "ffe25d82",
   "metadata": {},
   "outputs": [
    {
     "name": "stdout",
     "output_type": "stream",
     "text": [
      "avg fit time : 0.40898962020874025 (+/- 0.024585501811147003)\n",
      "avg score time : 0.0013871192932128906 (+/- 0.0007738927521449198)\n",
      "avg test score : 0.9666666666666668 (+/- 0.02108185106778919)\n"
     ]
    }
   ],
   "source": [
    "cross_val = cross_validate(\n",
    "    estimator=model,\n",
    "    X=iris.data, y=iris.target,\n",
    "    cv=5\n",
    ")\n",
    "print(f\"avg fit time : {cross_val['fit_time'].mean()} (+/- {cross_val['fit_time'].std()})\")\n",
    "print(f\"avg score time : {cross_val['score_time'].mean()} (+/- {cross_val['score_time'].std()})\")\n",
    "print(f\"avg test score : {cross_val['test_score'].mean()} (+/- {cross_val['test_score'].std()})\")"
   ]
  },
  {
   "cell_type": "code",
   "execution_count": 123,
   "id": "41b7c519",
   "metadata": {},
   "outputs": [
    {
     "name": "stdout",
     "output_type": "stream",
     "text": [
      "avg fit time : 0.608646011352539 (+/- 0.03156907378430226)\n",
      "avg score time : 0.0015822410583496093 (+/- 0.0004418402440554013)\n",
      "avg test score : 0.9385714285714286 (+/- 0.032068206474093704)\n"
     ]
    }
   ],
   "source": [
    "cross_val = cross_validate(\n",
    "    estimator=model,\n",
    "    X=wine.data, y=wine.target,\n",
    "    cv=5\n",
    ")\n",
    "print(f\"avg fit time : {cross_val['fit_time'].mean()} (+/- {cross_val['fit_time'].std()})\")\n",
    "print(f\"avg score time : {cross_val['score_time'].mean()} (+/- {cross_val['score_time'].std()})\")\n",
    "print(f\"avg test score : {cross_val['test_score'].mean()} (+/- {cross_val['test_score'].std()})\")"
   ]
  },
  {
   "cell_type": "code",
   "execution_count": 124,
   "id": "71aa890f",
   "metadata": {},
   "outputs": [
    {
     "name": "stdout",
     "output_type": "stream",
     "text": [
      "avg fit time : 0.8432297706604004 (+/- 0.015326214283518378)\n",
      "avg score time : 0.0020754337310791016 (+/- 0.0007420364372169891)\n",
      "avg test score : 0.9631268436578171 (+/- 0.021024240542234)\n"
     ]
    }
   ],
   "source": [
    "cross_val = cross_validate(\n",
    "    estimator=model,\n",
    "    X=cancer.data, y=cancer.target,\n",
    "    cv=5\n",
    ")\n",
    "print(f\"avg fit time : {cross_val['fit_time'].mean()} (+/- {cross_val['fit_time'].std()})\")\n",
    "print(f\"avg score time : {cross_val['score_time'].mean()} (+/- {cross_val['score_time'].std()})\")\n",
    "print(f\"avg test score : {cross_val['test_score'].mean()} (+/- {cross_val['test_score'].std()})\")"
   ]
  },
  {
   "cell_type": "markdown",
   "id": "6c476230",
   "metadata": {},
   "source": [
    "### Gradient Tree Boosting 회귀"
   ]
  },
  {
   "cell_type": "code",
   "execution_count": 131,
   "id": "d6fbcb6c",
   "metadata": {},
   "outputs": [],
   "source": [
    "model = make_pipeline(\n",
    "    StandardScaler(),\n",
    "    GradientBoostingRegressor()\n",
    ")"
   ]
  },
  {
   "cell_type": "code",
   "execution_count": 132,
   "id": "ca5574d7",
   "metadata": {},
   "outputs": [
    {
     "name": "stdout",
     "output_type": "stream",
     "text": [
      "avg fit time : 0.21963753700256347 (+/- 0.020624276821749596)\n",
      "avg score time : 0.0017985820770263672 (+/- 0.00040332575298369477)\n",
      "avg test score : 0.6836818274250323 (+/- 0.1512644869187298)\n"
     ]
    }
   ],
   "source": [
    "cross_val = cross_validate(\n",
    "    estimator=model,\n",
    "    X=boston.data, y=boston.target,\n",
    "    cv=5\n",
    ")\n",
    "print(f\"avg fit time : {cross_val['fit_time'].mean()} (+/- {cross_val['fit_time'].std()})\")\n",
    "print(f\"avg score time : {cross_val['score_time'].mean()} (+/- {cross_val['score_time'].std()})\")\n",
    "print(f\"avg test score : {cross_val['test_score'].mean()} (+/- {cross_val['test_score'].std()})\")"
   ]
  },
  {
   "cell_type": "code",
   "execution_count": 133,
   "id": "d6153e40",
   "metadata": {},
   "outputs": [
    {
     "name": "stdout",
     "output_type": "stream",
     "text": [
      "avg fit time : 0.17988576889038085 (+/- 0.0022460708514956272)\n",
      "avg score time : 0.0015725135803222657 (+/- 0.0003958764175685385)\n",
      "avg test score : 0.41012286847184853 (+/- 0.06931810062458485)\n"
     ]
    }
   ],
   "source": [
    "cross_val = cross_validate(\n",
    "    estimator=model,\n",
    "    X=diabetes.data, y=diabetes.target,\n",
    "    cv=5\n",
    ")\n",
    "print(f\"avg fit time : {cross_val['fit_time'].mean()} (+/- {cross_val['fit_time'].std()})\")\n",
    "print(f\"avg score time : {cross_val['score_time'].mean()} (+/- {cross_val['score_time'].std()})\")\n",
    "print(f\"avg test score : {cross_val['test_score'].mean()} (+/- {cross_val['test_score'].std()})\")"
   ]
  },
  {
   "cell_type": "markdown",
   "id": "594b2dd1",
   "metadata": {},
   "source": [
    "## 투표 기반 분류 (Voting Classifier)\n",
    "\n",
    "* 서로 다른 모델들의 결과를 투표를 통해 결합\n",
    "* 두가지 방법으로 투표 가능\n",
    "  * 가장 많이 예측된 클래스를 정답으로 채택 (hard voting)\n",
    "  * 예측된 확률의 가중치 평균 (soft voting)"
   ]
  },
  {
   "cell_type": "code",
   "execution_count": 135,
   "id": "3e4b793e",
   "metadata": {},
   "outputs": [],
   "source": [
    "from sklearn.svm import SVC\n",
    "from sklearn.naive_bayes import GaussianNB\n",
    "from sklearn.ensemble import RandomForestClassifier\n",
    "from sklearn.ensemble import VotingClassifier\n",
    "from sklearn.model_selection import cross_val_score"
   ]
  },
  {
   "cell_type": "code",
   "execution_count": 136,
   "id": "520cee6f",
   "metadata": {},
   "outputs": [],
   "source": [
    "# hard 방식\n",
    "\n",
    "model1 = SVC()\n",
    "model2 = GaussianNB()\n",
    "model3 = RandomForestClassifier()\n",
    "vote_model = VotingClassifier(\n",
    "    estimators=[('svc', model1), ('naive', model2), ('forest', model3)],\n",
    "    voting='hard'\n",
    ")"
   ]
  },
  {
   "cell_type": "code",
   "execution_count": 138,
   "id": "f3e7abc2",
   "metadata": {},
   "outputs": [
    {
     "name": "stdout",
     "output_type": "stream",
     "text": [
      "Accuracy : 0.97 (+/- 0.02) [SVC]\n",
      "Accuracy : 0.95 (+/- 0.03) [GaussianNB]\n",
      "Accuracy : 0.95 (+/- 0.03) [RandomForestClassifier]\n",
      "Accuracy : 0.96 (+/- 0.02) [VotingClassifier]\n"
     ]
    }
   ],
   "source": [
    "for model in (model1, model2, model3, vote_model):\n",
    "    model_name = str(type(model)).split('.')[-1][:-2]\n",
    "    scores = cross_val_score(model, iris.data, iris.target, cv=5)\n",
    "    print('Accuracy : %0.2f (+/- %0.2f) [%s]' % (scores.mean(), scores.std(), model_name))"
   ]
  },
  {
   "cell_type": "code",
   "execution_count": null,
   "id": "9a4ee0c4",
   "metadata": {},
   "outputs": [],
   "source": [
    "#soft방식\n",
    "model1 = SVC(probability=True)\n",
    "model2 = GaussianNB()\n",
    "model3 = RandomForestClassifier()\n",
    "vote_model = VotingClassifier(\n",
    "    estimators=[('svc', model1), ('naive', model2), ('forest', model3)],\n",
    "    voting='soft',\n",
    "    weights=[2,1,2]\n",
    ")"
   ]
  },
  {
   "cell_type": "code",
   "execution_count": 139,
   "id": "de7b2f86",
   "metadata": {},
   "outputs": [
    {
     "name": "stdout",
     "output_type": "stream",
     "text": [
      "Accuracy : 0.97 (+/- 0.02) [SVC]\n",
      "Accuracy : 0.95 (+/- 0.03) [GaussianNB]\n",
      "Accuracy : 0.97 (+/- 0.02) [RandomForestClassifier]\n",
      "Accuracy : 0.97 (+/- 0.02) [VotingClassifier]\n"
     ]
    }
   ],
   "source": [
    "for model in (model1, model2, model3, vote_model):\n",
    "    model_name = str(type(model)).split('.')[-1][:-2]\n",
    "    scores = cross_val_score(model, iris.data, iris.target, cv=5)\n",
    "    print('Accuracy : %0.2f (+/- %0.2f) [%s]' % (scores.mean(), scores.std(), model_name))"
   ]
  },
  {
   "cell_type": "markdown",
   "id": "9c32cee6",
   "metadata": {},
   "source": [
    "### 결정 경계 시각화"
   ]
  },
  {
   "cell_type": "markdown",
   "id": "0f478828",
   "metadata": {},
   "source": [
    "## 투표 기반 회귀 (Voting Regressor)\n",
    "\n",
    "* 서로 다른 모델의 예측 값의 평균을 사용"
   ]
  },
  {
   "cell_type": "code",
   "execution_count": 140,
   "id": "5a96204a",
   "metadata": {},
   "outputs": [],
   "source": [
    "from sklearn.linear_model import LinearRegression\n",
    "from sklearn.ensemble import GradientBoostingRegressor\n",
    "from sklearn.ensemble import RandomForestRegressor\n",
    "from sklearn.ensemble import VotingRegressor"
   ]
  },
  {
   "cell_type": "code",
   "execution_count": 147,
   "id": "3a610d8b",
   "metadata": {},
   "outputs": [],
   "source": [
    "model1 = LinearRegression()\n",
    "model2 = GradientBoostingRegressor()\n",
    "model3 = RandomForestRegressor()\n",
    "vote_model = VotingRegressor(\n",
    "    estimators=[('Linear', model1), ('gbr', model2), ('rfr', model3)],\n",
    "    weights= [1,1,1]\n",
    ")"
   ]
  },
  {
   "cell_type": "code",
   "execution_count": 148,
   "id": "3e16fa46",
   "metadata": {},
   "outputs": [
    {
     "name": "stdout",
     "output_type": "stream",
     "text": [
      "R2: 0.35 (+/- 0.38) [LinearRegression]\n",
      "R2: 0.67 (+/- 0.17) [GradientBoostingRegressor]\n",
      "R2: 0.62 (+/- 0.22) [RandomForestRegressor]\n",
      "R2: 0.65 (+/- 0.21) [VotingRegressor]\n"
     ]
    }
   ],
   "source": [
    "for model in (model1, model2, model3, vote_model):\n",
    "    model_name = str(type(model)).split('.')[-1][:-2]\n",
    "    scores = cross_val_score(model, boston.data, boston.target, cv=5)\n",
    "    print('R2: %0.2f (+/- %0.2f) [%s]' % (scores.mean(), scores.std(), model_name))"
   ]
  },
  {
   "cell_type": "markdown",
   "id": "a3c995aa",
   "metadata": {},
   "source": [
    "### 회귀식 시각화"
   ]
  },
  {
   "cell_type": "markdown",
   "id": "f19dd7e5",
   "metadata": {},
   "source": [
    "## 스택 일반화 (Stacked Generalization)\n",
    "\n",
    "* 각 모델의 예측 값을 최종 모델의 입력으로 사용\n",
    "* 모델의 편향을 줄이는데 효과적"
   ]
  },
  {
   "cell_type": "markdown",
   "id": "8db5fa18",
   "metadata": {},
   "source": [
    "### 스택 회귀"
   ]
  },
  {
   "cell_type": "code",
   "execution_count": 151,
   "id": "5ffdebb3",
   "metadata": {},
   "outputs": [],
   "source": [
    "from sklearn.linear_model import Ridge, Lasso\n",
    "from sklearn.svm import SVR\n",
    "from sklearn.ensemble import StackingRegressor\n",
    "from sklearn.ensemble import GradientBoostingRegressor"
   ]
  },
  {
   "cell_type": "code",
   "execution_count": 150,
   "id": "35f40655",
   "metadata": {},
   "outputs": [],
   "source": [
    "estimators = [('ridge', Ridge()),\n",
    "             ('lasso', Lasso()),\n",
    "             ('svr', SVR())]"
   ]
  },
  {
   "cell_type": "code",
   "execution_count": 153,
   "id": "5fef88e5",
   "metadata": {},
   "outputs": [],
   "source": [
    "reg = make_pipeline(\n",
    "    StandardScaler(),\n",
    "    StackingRegressor(\n",
    "        estimators=estimators,\n",
    "        final_estimator=GradientBoostingRegressor()\n",
    "    )\n",
    ")"
   ]
  },
  {
   "cell_type": "code",
   "execution_count": 154,
   "id": "c6c23cdd",
   "metadata": {},
   "outputs": [
    {
     "name": "stdout",
     "output_type": "stream",
     "text": [
      "avg fit time : 0.1652303695678711 (+/- 0.009551796141829856)\n",
      "avg score time : 0.006015777587890625 (+/- 0.0003261018520244199)\n",
      "avg test score : 0.3199641138499357 (+/- 0.3315014050515194)\n"
     ]
    }
   ],
   "source": [
    "cross_val = cross_validate(\n",
    "    estimator=reg,\n",
    "    X=boston.data, y=boston.target,\n",
    "    cv=5\n",
    ")\n",
    "print(f\"avg fit time : {cross_val['fit_time'].mean()} (+/- {cross_val['fit_time'].std()})\")\n",
    "print(f\"avg score time : {cross_val['score_time'].mean()} (+/- {cross_val['score_time'].std()})\")\n",
    "print(f\"avg test score : {cross_val['test_score'].mean()} (+/- {cross_val['test_score'].std()})\")"
   ]
  },
  {
   "cell_type": "markdown",
   "id": "3fe46fbb",
   "metadata": {},
   "source": [
    "#### 회귀식 시각화"
   ]
  },
  {
   "cell_type": "markdown",
   "id": "86de706d",
   "metadata": {},
   "source": [
    "### 스택 분류"
   ]
  },
  {
   "cell_type": "code",
   "execution_count": 155,
   "id": "c9867498",
   "metadata": {},
   "outputs": [],
   "source": [
    "from sklearn.svm import SVC\n",
    "from sklearn.naive_bayes import GaussianNB\n",
    "from sklearn.ensemble import RandomForestClassifier\n",
    "from sklearn.ensemble import StackingClassifier\n",
    "from sklearn.linear_model import LogisticRegression"
   ]
  },
  {
   "cell_type": "code",
   "execution_count": 157,
   "id": "569d0f91",
   "metadata": {},
   "outputs": [],
   "source": [
    "estimators = [('logistic', LogisticRegression(max_iter=10000)),\n",
    "             ('svc', SVC()),\n",
    "             ('naive', GaussianNB())]"
   ]
  },
  {
   "cell_type": "code",
   "execution_count": 158,
   "id": "847e84f3",
   "metadata": {},
   "outputs": [],
   "source": [
    "clf = StackingClassifier(\n",
    "    estimators=estimators,\n",
    "    final_estimator=RandomForestClassifier()\n",
    ")"
   ]
  },
  {
   "cell_type": "code",
   "execution_count": 159,
   "id": "359c5949",
   "metadata": {},
   "outputs": [
    {
     "name": "stdout",
     "output_type": "stream",
     "text": [
      "avg fit time : 0.30034122467041013 (+/- 0.01805924199146007)\n",
      "avg score time : 0.011328697204589844 (+/- 0.001015862145427881)\n",
      "avg test score : 0.9666666666666666 (+/- 0.02108185106778919)\n"
     ]
    }
   ],
   "source": [
    "cross_val = cross_validate(\n",
    "    estimator=clf,\n",
    "    X=iris.data, y=iris.target,\n",
    "    cv=5\n",
    ")\n",
    "print(f\"avg fit time : {cross_val['fit_time'].mean()} (+/- {cross_val['fit_time'].std()})\")\n",
    "print(f\"avg score time : {cross_val['score_time'].mean()} (+/- {cross_val['score_time'].std()})\")\n",
    "print(f\"avg test score : {cross_val['test_score'].mean()} (+/- {cross_val['test_score'].std()})\")"
   ]
  },
  {
   "cell_type": "markdown",
   "id": "ea4ff280",
   "metadata": {},
   "source": [
    "#### 결정 경계 시각화"
   ]
  },
  {
   "cell_type": "code",
   "execution_count": 4,
   "id": "8646b4f3",
   "metadata": {},
   "outputs": [
    {
     "ename": "NameError",
     "evalue": "name 'plt' is not defined",
     "output_type": "error",
     "traceback": [
      "\u001b[1;31m---------------------------------------------------------------------------\u001b[0m",
      "\u001b[1;31mNameError\u001b[0m                                 Traceback (most recent call last)",
      "Cell \u001b[1;32mIn[4], line 1\u001b[0m\n\u001b[1;32m----> 1\u001b[0m \u001b[43mplt\u001b[49m\u001b[38;5;241m.\u001b[39mbarh(\u001b[38;5;28mlist\u001b[39m(X), model\u001b[38;5;241m.\u001b[39mfeature_importances_)\n\u001b[0;32m      2\u001b[0m plt\u001b[38;5;241m.\u001b[39mshow()\n",
      "\u001b[1;31mNameError\u001b[0m: name 'plt' is not defined"
     ]
    }
   ],
   "source": [
    "plt.barh(list(X), model.feature_importances_)\n",
    "plt.show()"
   ]
  }
 ],
 "metadata": {
  "kernelspec": {
   "display_name": "Python 3 (ipykernel)",
   "language": "python",
   "name": "python3"
  },
  "language_info": {
   "codemirror_mode": {
    "name": "ipython",
    "version": 3
   },
   "file_extension": ".py",
   "mimetype": "text/x-python",
   "name": "python",
   "nbconvert_exporter": "python",
   "pygments_lexer": "ipython3",
   "version": "3.9.13"
  },
  "toc": {
   "base_numbering": 1,
   "nav_menu": {},
   "number_sections": true,
   "sideBar": true,
   "skip_h1_title": false,
   "title_cell": "Table of Contents",
   "title_sidebar": "Contents",
   "toc_cell": false,
   "toc_position": {},
   "toc_section_display": true,
   "toc_window_display": false
  }
 },
 "nbformat": 4,
 "nbformat_minor": 5
}
